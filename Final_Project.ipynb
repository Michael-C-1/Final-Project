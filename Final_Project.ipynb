{
  "nbformat": 4,
  "nbformat_minor": 0,
  "metadata": {
    "colab": {
      "name": "Untitled8.ipynb",
      "provenance": [],
      "include_colab_link": true
    },
    "kernelspec": {
      "name": "python3",
      "display_name": "Python 3"
    }
  },
  "cells": [
    {
      "cell_type": "markdown",
      "metadata": {
        "id": "view-in-github",
        "colab_type": "text"
      },
      "source": [
        "<a href=\"https://colab.research.google.com/github/Michael-C-1/Final-Project/blob/main/Final_Project.ipynb\" target=\"_parent\"><img src=\"https://colab.research.google.com/assets/colab-badge.svg\" alt=\"Open In Colab\"/></a>"
      ]
    },
    {
      "cell_type": "markdown",
      "metadata": {
        "id": "CYUKP-bztS1w"
      },
      "source": [
        "#We tried to contact Mr. DellaRocca, but he never responded."
      ]
    },
    {
      "cell_type": "code",
      "metadata": {
        "id": "r9ItRjusjIQc",
        "colab": {
          "base_uri": "https://localhost:8080/",
          "height": 374
        },
        "outputId": "231695d6-4d9a-42c3-c1c9-1e43c5a48546"
      },
      "source": [
        "#load numpy and panda libraries\r\n",
        "import numpy as nm\r\n",
        "import pandas as pd\r\n",
        "import matplotlib.pyplot as plt\r\n",
        "import missingno as msno\r\n",
        "import seaborn as sns\r\n",
        "\r\n",
        "df=pd.read_csv('https://raw.githubusercontent.com/brandjula/BCS109-FALL-2020/master/drugs_data_set.csv')\r\n",
        "df.head()"
      ],
      "execution_count": null,
      "outputs": [
        {
          "output_type": "execute_result",
          "data": {
            "text/html": [
              "<div>\n",
              "<style scoped>\n",
              "    .dataframe tbody tr th:only-of-type {\n",
              "        vertical-align: middle;\n",
              "    }\n",
              "\n",
              "    .dataframe tbody tr th {\n",
              "        vertical-align: top;\n",
              "    }\n",
              "\n",
              "    .dataframe thead th {\n",
              "        text-align: right;\n",
              "    }\n",
              "</style>\n",
              "<table border=\"1\" class=\"dataframe\">\n",
              "  <thead>\n",
              "    <tr style=\"text-align: right;\">\n",
              "      <th></th>\n",
              "      <th>ID</th>\n",
              "      <th>drugName</th>\n",
              "      <th>condition</th>\n",
              "      <th>review</th>\n",
              "      <th>rating</th>\n",
              "      <th>date</th>\n",
              "      <th>usefulCount</th>\n",
              "    </tr>\n",
              "  </thead>\n",
              "  <tbody>\n",
              "    <tr>\n",
              "      <th>0</th>\n",
              "      <td>163740.0</td>\n",
              "      <td>Mirtazapine</td>\n",
              "      <td>Depression</td>\n",
              "      <td>\"I&amp;#039;ve tried a few antidepressants over th...</td>\n",
              "      <td>10.0</td>\n",
              "      <td>2/28/2012</td>\n",
              "      <td>22.0</td>\n",
              "    </tr>\n",
              "    <tr>\n",
              "      <th>1</th>\n",
              "      <td>206473.0</td>\n",
              "      <td>Mesalamine</td>\n",
              "      <td>Crohn's Disease, Maintenance</td>\n",
              "      <td>\"My son has Crohn&amp;#039;s disease and has done ...</td>\n",
              "      <td>8.0</td>\n",
              "      <td>5/17/2009</td>\n",
              "      <td>17.0</td>\n",
              "    </tr>\n",
              "    <tr>\n",
              "      <th>2</th>\n",
              "      <td>159672.0</td>\n",
              "      <td>Bactrim</td>\n",
              "      <td>Urinary Tract Infection</td>\n",
              "      <td>\"Quick reduction of symptoms\"</td>\n",
              "      <td>9.0</td>\n",
              "      <td>9/29/2017</td>\n",
              "      <td>3.0</td>\n",
              "    </tr>\n",
              "    <tr>\n",
              "      <th>3</th>\n",
              "      <td>39293.0</td>\n",
              "      <td>Contrave</td>\n",
              "      <td>Weight Loss</td>\n",
              "      <td>\"Contrave combines drugs that were used for al...</td>\n",
              "      <td>9.0</td>\n",
              "      <td>3/5/2017</td>\n",
              "      <td>35.0</td>\n",
              "    </tr>\n",
              "    <tr>\n",
              "      <th>4</th>\n",
              "      <td>97768.0</td>\n",
              "      <td>Cyclafem 1 / 35</td>\n",
              "      <td>Birth Control</td>\n",
              "      <td>\"I have been on this birth control for one cyc...</td>\n",
              "      <td>9.0</td>\n",
              "      <td>10/22/2015</td>\n",
              "      <td>4.0</td>\n",
              "    </tr>\n",
              "  </tbody>\n",
              "</table>\n",
              "</div>"
            ],
            "text/plain": [
              "         ID         drugName  ...        date usefulCount\n",
              "0  163740.0      Mirtazapine  ...   2/28/2012        22.0\n",
              "1  206473.0       Mesalamine  ...   5/17/2009        17.0\n",
              "2  159672.0          Bactrim  ...   9/29/2017         3.0\n",
              "3   39293.0         Contrave  ...    3/5/2017        35.0\n",
              "4   97768.0  Cyclafem 1 / 35  ...  10/22/2015         4.0\n",
              "\n",
              "[5 rows x 7 columns]"
            ]
          },
          "metadata": {
            "tags": []
          },
          "execution_count": 2
        }
      ]
    },
    {
      "cell_type": "code",
      "metadata": {
        "colab": {
          "base_uri": "https://localhost:8080/"
        },
        "id": "sw6ZOlilp1uY",
        "outputId": "d6b1d203-181b-434d-dfdd-fb4f7cc9b1c1"
      },
      "source": [
        "df.sum()"
      ],
      "execution_count": null,
      "outputs": [
        {
          "output_type": "execute_result",
          "data": {
            "text/plain": [
              "ID             121016993.0\n",
              "rating              7062.0\n",
              "usefulCount        28216.0\n",
              "dtype: float64"
            ]
          },
          "metadata": {
            "tags": []
          },
          "execution_count": 6
        }
      ]
    },
    {
      "cell_type": "code",
      "metadata": {
        "colab": {
          "base_uri": "https://localhost:8080/"
        },
        "id": "i_YlOoZ-qkVs",
        "outputId": "4152a402-ea16-464d-aa65-63e49e5dd720"
      },
      "source": [
        "df.isnull().sum()"
      ],
      "execution_count": null,
      "outputs": [
        {
          "output_type": "execute_result",
          "data": {
            "text/plain": [
              "ID             52767\n",
              "drugName       52767\n",
              "condition      52771\n",
              "review         52767\n",
              "rating         52767\n",
              "date           52767\n",
              "usefulCount    52767\n",
              "dtype: int64"
            ]
          },
          "metadata": {
            "tags": []
          },
          "execution_count": 7
        }
      ]
    },
    {
      "cell_type": "code",
      "metadata": {
        "colab": {
          "base_uri": "https://localhost:8080/",
          "height": 272
        },
        "id": "l0jfP58zltW7",
        "outputId": "fdacba60-900c-4d67-8bbb-886fa5cfc648"
      },
      "source": [
        "sub_df = pd.DataFrame(df[['drugName','condition','review', 'date']])\r\n",
        "sub_df.head()"
      ],
      "execution_count": null,
      "outputs": [
        {
          "output_type": "execute_result",
          "data": {
            "text/html": [
              "<div>\n",
              "<style scoped>\n",
              "    .dataframe tbody tr th:only-of-type {\n",
              "        vertical-align: middle;\n",
              "    }\n",
              "\n",
              "    .dataframe tbody tr th {\n",
              "        vertical-align: top;\n",
              "    }\n",
              "\n",
              "    .dataframe thead th {\n",
              "        text-align: right;\n",
              "    }\n",
              "</style>\n",
              "<table border=\"1\" class=\"dataframe\">\n",
              "  <thead>\n",
              "    <tr style=\"text-align: right;\">\n",
              "      <th></th>\n",
              "      <th>drugName</th>\n",
              "      <th>condition</th>\n",
              "      <th>review</th>\n",
              "      <th>date</th>\n",
              "    </tr>\n",
              "  </thead>\n",
              "  <tbody>\n",
              "    <tr>\n",
              "      <th>0</th>\n",
              "      <td>Mirtazapine</td>\n",
              "      <td>Depression</td>\n",
              "      <td>\"I&amp;#039;ve tried a few antidepressants over th...</td>\n",
              "      <td>2/28/2012</td>\n",
              "    </tr>\n",
              "    <tr>\n",
              "      <th>1</th>\n",
              "      <td>Mesalamine</td>\n",
              "      <td>Crohn's Disease, Maintenance</td>\n",
              "      <td>\"My son has Crohn&amp;#039;s disease and has done ...</td>\n",
              "      <td>5/17/2009</td>\n",
              "    </tr>\n",
              "    <tr>\n",
              "      <th>2</th>\n",
              "      <td>Bactrim</td>\n",
              "      <td>Urinary Tract Infection</td>\n",
              "      <td>\"Quick reduction of symptoms\"</td>\n",
              "      <td>9/29/2017</td>\n",
              "    </tr>\n",
              "    <tr>\n",
              "      <th>3</th>\n",
              "      <td>Contrave</td>\n",
              "      <td>Weight Loss</td>\n",
              "      <td>\"Contrave combines drugs that were used for al...</td>\n",
              "      <td>3/5/2017</td>\n",
              "    </tr>\n",
              "    <tr>\n",
              "      <th>4</th>\n",
              "      <td>Cyclafem 1 / 35</td>\n",
              "      <td>Birth Control</td>\n",
              "      <td>\"I have been on this birth control for one cyc...</td>\n",
              "      <td>10/22/2015</td>\n",
              "    </tr>\n",
              "  </tbody>\n",
              "</table>\n",
              "</div>"
            ],
            "text/plain": [
              "          drugName  ...        date\n",
              "0      Mirtazapine  ...   2/28/2012\n",
              "1       Mesalamine  ...   5/17/2009\n",
              "2          Bactrim  ...   9/29/2017\n",
              "3         Contrave  ...    3/5/2017\n",
              "4  Cyclafem 1 / 35  ...  10/22/2015\n",
              "\n",
              "[5 rows x 4 columns]"
            ]
          },
          "metadata": {
            "tags": []
          },
          "execution_count": 7
        }
      ]
    },
    {
      "cell_type": "code",
      "metadata": {
        "colab": {
          "base_uri": "https://localhost:8080/"
        },
        "id": "vRoza8xJl_k2",
        "outputId": "125da6fc-9a3e-463e-c724-f032fef8e5a0"
      },
      "source": [
        "sub_df.isna().sum()"
      ],
      "execution_count": null,
      "outputs": [
        {
          "output_type": "execute_result",
          "data": {
            "text/plain": [
              "drugName     52767\n",
              "condition    52771\n",
              "review       52767\n",
              "date         52767\n",
              "dtype: int64"
            ]
          },
          "metadata": {
            "tags": []
          },
          "execution_count": 7
        }
      ]
    },
    {
      "cell_type": "code",
      "metadata": {
        "id": "fq5wNfp2qyLO"
      },
      "source": [
        "#print all the unique values of my data\n",
        "for col in sub_df:\n",
        "  print(sub_df[col].unique())"
      ],
      "execution_count": null,
      "outputs": []
    },
    {
      "cell_type": "code",
      "metadata": {
        "id": "vfAX-mWYgUPb",
        "colab": {
          "base_uri": "https://localhost:8080/"
        },
        "outputId": "7c0c6bc7-0e08-4798-dbd7-6ff32ca820ef"
      },
      "source": [
        "#print all the unique values of my data\n",
        "sub_df['condition'].unique()"
      ],
      "execution_count": null,
      "outputs": [
        {
          "output_type": "execute_result",
          "data": {
            "text/plain": [
              "array(['Depression', \"Crohn's Disease, Maintenance\",\n",
              "       'Urinary Tract Infection', 'Weight Loss', 'Birth Control',\n",
              "       'Keratosis', 'Migraine Prevention', 'Opiate Withdrawal',\n",
              "       'Hot Flashes', 'Vaginal Yeast Infection',\n",
              "       'Schizoaffective Disorde', 'Insomnia', 'Narcolepsy',\n",
              "       'Smoking Cessation', 'Acne', 'Bipolar Disorde',\n",
              "       'Irritable Bowel Syndrome', 'Keratoconjunctivitis Sicca',\n",
              "       'Hyperhidrosis', 'Panic Disorde', 'Onychomycosis, Fingernail',\n",
              "       'Rosacea', 'Bowel Preparation', 'Constipation, Drug Induced', nan,\n",
              "       'Diabetes, Type 2', 'Pain', 'Lipodystrophy', 'Alcohol Dependence',\n",
              "       'Emergency Contraception', 'Major Depressive Disorde', 'Anxiety',\n",
              "       'Bladder Infection', 'Benign Prostatic Hyperplasia',\n",
              "       'Rheumatoid Arthritis', 'Endometriosis', 'ADHD',\n",
              "       'Restless Legs Syndrome', 'Conjunctivitis, Allergic',\n",
              "       \"Raynaud's Syndrome\", 'Schizophrenia', 'Diabetes, Type 1',\n",
              "       'Kidney Infections', 'Generalized Anxiety Disorde', 'Obesity',\n",
              "       'Nausea/Vomiting', 'Osteoarthritis', 'Motion Sickness',\n",
              "       'High Blood Pressure', 'Psoriatic Arthritis',\n",
              "       'Interstitial Cystitis', 'Postmenopausal Symptoms',\n",
              "       'Bacterial Skin Infection', 'ibromyalgia',\n",
              "       'Cough and Nasal Congestion', 'Diabetic Peripheral Neuropathy',\n",
              "       '12</span> users found this comment helpful.',\n",
              "       'Renal Cell Carcinoma', 'Constipation', 'Social Anxiety Disorde',\n",
              "       'Nausea/Vomiting of Pregnancy', 'Binge Eating Disorde',\n",
              "       'Hepatitis C', 'Back Pain', 'Cold Sores', 'Opiate Dependence',\n",
              "       'Heart Attack', 'Asthma', 'Cough', 'Erectile Dysfunction',\n",
              "       'Autoimmune Hepatitis', 'Constipation, Chronic', 'Seizures',\n",
              "       'Bacterial Vaginitis', 'Not Listed / Othe', 'Headache',\n",
              "       'Anesthesia', 'mance Anxiety', 'Menstrual Disorders', 'Pneumonia',\n",
              "       'Constipation, Acute',\n",
              "       '0</span> users found this comment helpful.', 'Chronic Pain',\n",
              "       'Benign Essential Trem', 'Human Papilloma Virus', 'Hypersomnia',\n",
              "       'Diabetic Kidney Disease', \"Meniere's Disease\", 'Nasal Congestion',\n",
              "       'Obsessive Compulsive Disorde', 'Chronic Myelogenous Leukemia',\n",
              "       'emale Infertility', 'Oral Thrush', 'Actinic Keratosis',\n",
              "       'HIV Infection',\n",
              "       'Vitamin/Mineral Supplementation during Pregnancy/Lactation',\n",
              "       'Bacterial Infection', 'Vitamin D Deficiency', 'Sciatica',\n",
              "       'Otitis Media', 'Skin or Soft Tissue Infection', \"Crohn's Disease\",\n",
              "       'GERD', 'Labor Induction', 'Myasthenia Gravis', 'Psoriasis',\n",
              "       'Soft Tissue Sarcoma', 'Osteoporosis', 'Ovarian Cysts',\n",
              "       'Giardiasis', 'Diverticulitis', 'Influenza',\n",
              "       'Abnormal Uterine Bleeding', 'Anxiety and Stress', 'Sinusitis',\n",
              "       'Gastroenteritis', 'Period Pain', 'Inflammatory Conditions',\n",
              "       'Muscle Pain', 'Allergic Rhinitis',\n",
              "       '6</span> users found this comment helpful.',\n",
              "       'Neutropenia Associated with Chemotherapy',\n",
              "       'Herpes Simplex, Suppression', 'Multiple Sclerosis',\n",
              "       '24</span> users found this comment helpful.', 'Vertig',\n",
              "       'Muscle Spasm', 'Bronchitis', 'Autism',\n",
              "       'Alpha-1 Proteinase Inhibitor Deficiency', 'High Cholesterol',\n",
              "       'Urticaria', 'Systemic Lupus Erythematosus', 'Diarrhea',\n",
              "       \"Crohn's Disease, Acute\", 'Migraine', 'Pulmonary Hypertension',\n",
              "       'Breast Cance', 'Seizure Prevention',\n",
              "       'Borderline Personality Disorde', 'Rat-bite Feve',\n",
              "       'COPD, Maintenance', 'Alopecia', 'Dysuria', 'Warts', 'Leukemia',\n",
              "       'Underactive Thyroid', \"Still's Disease\", \"Hashimoto's disease\",\n",
              "       'Mitral Valve Prolapse', 'Epilepsy', 'Hypogonadism, Male',\n",
              "       '9</span> users found this comment helpful.', 'Overactive Bladde',\n",
              "       'Peripheral Neuropathy', 'Glaucoma, Open Angle',\n",
              "       'Onychomycosis, Toenail', 'Cluster Headaches',\n",
              "       'Ulcerative Colitis', 'Asthma, Maintenance',\n",
              "       'Deep Vein Thrombosis', 'min / sitagliptin)',\n",
              "       'Post Traumatic Stress Disorde', 'Bursitis', 'Prostatitis',\n",
              "       'Postoperative Pain', 'Human Papillomavirus Prophylaxis',\n",
              "       'Chlamydia Infection', 'Ulcerative Colitis, Active', 'me',\n",
              "       'Computed Tomography', 'Herpes Zoster, Prophylaxis',\n",
              "       'Supraventricular Tachycardia', 'Indigestion', 'Gout, Acute',\n",
              "       'Nocturnal Leg Cramps',\n",
              "       '10</span> users found this comment helpful.', 'Prostate Cance',\n",
              "       'Anal Fissure and Fistula', \"Parkinson's Disease\",\n",
              "       'Premenstrual Dysphoric Disorde', 'atigue',\n",
              "       '2</span> users found this comment helpful.',\n",
              "       'Urinary Incontinence', 'COPD', 'Duodenal Ulce',\n",
              "       \"Alzheimer's Disease\", 'Atrial Fibrillation',\n",
              "       'Basal Cell Carcinoma', \"Barrett's Esophagus\",\n",
              "       'Androgenetic Alopecia', 'Hypothyroidism, After Thyroid Removal',\n",
              "       'Ankylosing Spondylitis', 'Postpartum Depression',\n",
              "       'Opioid Overdose', 'Prevention of Bladder infection',\n",
              "       'Infection Prophylaxis', 'Perimenopausal Symptoms', 'Swine Flu',\n",
              "       'Dry Eye Disease', 'Ulcerative Proctitis'], dtype=object)"
            ]
          },
          "metadata": {
            "tags": []
          },
          "execution_count": 8
        }
      ]
    },
    {
      "cell_type": "code",
      "metadata": {
        "id": "vnTcGYHh4k5t",
        "colab": {
          "base_uri": "https://localhost:8080/"
        },
        "outputId": "0a83bf47-f20f-43e7-9215-f8d1069bbb14"
      },
      "source": [
        "#create a label encoder to turn the data into numbers\n",
        "from sklearn import preprocessing\n",
        "\n",
        "#set up LabelEncoding\n",
        "le = preprocessing.LabelEncoder()\n",
        "\n",
        "#the .astype(str) converts all the data to a string so that the NaNs are not a problem in the data\n",
        "interim = le.fit_transform(sub_df['condition'].astype(str))\n",
        "\n",
        "#check the classes used\n",
        "print(list(le.classes_))\n",
        "\n",
        "#check the converted values\n",
        "le_name_mapping = dict(zip(le.classes_, le.transform(le.classes_)))\n",
        "print(le_name_mapping)"
      ],
      "execution_count": null,
      "outputs": [
        {
          "output_type": "stream",
          "text": [
            "['0</span> users found this comment helpful.', '10</span> users found this comment helpful.', '12</span> users found this comment helpful.', '24</span> users found this comment helpful.', '2</span> users found this comment helpful.', '6</span> users found this comment helpful.', '9</span> users found this comment helpful.', 'ADHD', 'Abnormal Uterine Bleeding', 'Acne', 'Actinic Keratosis', 'Alcohol Dependence', 'Allergic Rhinitis', 'Alopecia', 'Alpha-1 Proteinase Inhibitor Deficiency', \"Alzheimer's Disease\", 'Anal Fissure and Fistula', 'Androgenetic Alopecia', 'Anesthesia', 'Ankylosing Spondylitis', 'Anxiety', 'Anxiety and Stress', 'Asthma', 'Asthma, Maintenance', 'Atrial Fibrillation', 'Autism', 'Autoimmune Hepatitis', 'Back Pain', 'Bacterial Infection', 'Bacterial Skin Infection', 'Bacterial Vaginitis', \"Barrett's Esophagus\", 'Basal Cell Carcinoma', 'Benign Essential Trem', 'Benign Prostatic Hyperplasia', 'Binge Eating Disorde', 'Bipolar Disorde', 'Birth Control', 'Bladder Infection', 'Borderline Personality Disorde', 'Bowel Preparation', 'Breast Cance', 'Bronchitis', 'Bursitis', 'COPD', 'COPD, Maintenance', 'Chlamydia Infection', 'Chronic Myelogenous Leukemia', 'Chronic Pain', 'Cluster Headaches', 'Cold Sores', 'Computed Tomography', 'Conjunctivitis, Allergic', 'Constipation', 'Constipation, Acute', 'Constipation, Chronic', 'Constipation, Drug Induced', 'Cough', 'Cough and Nasal Congestion', \"Crohn's Disease\", \"Crohn's Disease, Acute\", \"Crohn's Disease, Maintenance\", 'Deep Vein Thrombosis', 'Depression', 'Diabetes, Type 1', 'Diabetes, Type 2', 'Diabetic Kidney Disease', 'Diabetic Peripheral Neuropathy', 'Diarrhea', 'Diverticulitis', 'Dry Eye Disease', 'Duodenal Ulce', 'Dysuria', 'Emergency Contraception', 'Endometriosis', 'Epilepsy', 'Erectile Dysfunction', 'GERD', 'Gastroenteritis', 'Generalized Anxiety Disorde', 'Giardiasis', 'Glaucoma, Open Angle', 'Gout, Acute', 'HIV Infection', \"Hashimoto's disease\", 'Headache', 'Heart Attack', 'Hepatitis C', 'Herpes Simplex, Suppression', 'Herpes Zoster, Prophylaxis', 'High Blood Pressure', 'High Cholesterol', 'Hot Flashes', 'Human Papilloma Virus', 'Human Papillomavirus Prophylaxis', 'Hyperhidrosis', 'Hypersomnia', 'Hypogonadism, Male', 'Hypothyroidism, After Thyroid Removal', 'Indigestion', 'Infection Prophylaxis', 'Inflammatory Conditions', 'Influenza', 'Insomnia', 'Interstitial Cystitis', 'Irritable Bowel Syndrome', 'Keratoconjunctivitis Sicca', 'Keratosis', 'Kidney Infections', 'Labor Induction', 'Leukemia', 'Lipodystrophy', 'Major Depressive Disorde', \"Meniere's Disease\", 'Menstrual Disorders', 'Migraine', 'Migraine Prevention', 'Mitral Valve Prolapse', 'Motion Sickness', 'Multiple Sclerosis', 'Muscle Pain', 'Muscle Spasm', 'Myasthenia Gravis', 'Narcolepsy', 'Nasal Congestion', 'Nausea/Vomiting', 'Nausea/Vomiting of Pregnancy', 'Neutropenia Associated with Chemotherapy', 'Nocturnal Leg Cramps', 'Not Listed / Othe', 'Obesity', 'Obsessive Compulsive Disorde', 'Onychomycosis, Fingernail', 'Onychomycosis, Toenail', 'Opiate Dependence', 'Opiate Withdrawal', 'Opioid Overdose', 'Oral Thrush', 'Osteoarthritis', 'Osteoporosis', 'Otitis Media', 'Ovarian Cysts', 'Overactive Bladde', 'Pain', 'Panic Disorde', \"Parkinson's Disease\", 'Perimenopausal Symptoms', 'Period Pain', 'Peripheral Neuropathy', 'Pneumonia', 'Post Traumatic Stress Disorde', 'Postmenopausal Symptoms', 'Postoperative Pain', 'Postpartum Depression', 'Premenstrual Dysphoric Disorde', 'Prevention of Bladder infection', 'Prostate Cance', 'Prostatitis', 'Psoriasis', 'Psoriatic Arthritis', 'Pulmonary Hypertension', 'Rat-bite Feve', \"Raynaud's Syndrome\", 'Renal Cell Carcinoma', 'Restless Legs Syndrome', 'Rheumatoid Arthritis', 'Rosacea', 'Schizoaffective Disorde', 'Schizophrenia', 'Sciatica', 'Seizure Prevention', 'Seizures', 'Sinusitis', 'Skin or Soft Tissue Infection', 'Smoking Cessation', 'Social Anxiety Disorde', 'Soft Tissue Sarcoma', \"Still's Disease\", 'Supraventricular Tachycardia', 'Swine Flu', 'Systemic Lupus Erythematosus', 'Ulcerative Colitis', 'Ulcerative Colitis, Active', 'Ulcerative Proctitis', 'Underactive Thyroid', 'Urinary Incontinence', 'Urinary Tract Infection', 'Urticaria', 'Vaginal Yeast Infection', 'Vertig', 'Vitamin D Deficiency', 'Vitamin/Mineral Supplementation during Pregnancy/Lactation', 'Warts', 'Weight Loss', 'atigue', 'emale Infertility', 'ibromyalgia', 'mance Anxiety', 'me', 'min / sitagliptin)', 'nan']\n",
            "{'0</span> users found this comment helpful.': 0, '10</span> users found this comment helpful.': 1, '12</span> users found this comment helpful.': 2, '24</span> users found this comment helpful.': 3, '2</span> users found this comment helpful.': 4, '6</span> users found this comment helpful.': 5, '9</span> users found this comment helpful.': 6, 'ADHD': 7, 'Abnormal Uterine Bleeding': 8, 'Acne': 9, 'Actinic Keratosis': 10, 'Alcohol Dependence': 11, 'Allergic Rhinitis': 12, 'Alopecia': 13, 'Alpha-1 Proteinase Inhibitor Deficiency': 14, \"Alzheimer's Disease\": 15, 'Anal Fissure and Fistula': 16, 'Androgenetic Alopecia': 17, 'Anesthesia': 18, 'Ankylosing Spondylitis': 19, 'Anxiety': 20, 'Anxiety and Stress': 21, 'Asthma': 22, 'Asthma, Maintenance': 23, 'Atrial Fibrillation': 24, 'Autism': 25, 'Autoimmune Hepatitis': 26, 'Back Pain': 27, 'Bacterial Infection': 28, 'Bacterial Skin Infection': 29, 'Bacterial Vaginitis': 30, \"Barrett's Esophagus\": 31, 'Basal Cell Carcinoma': 32, 'Benign Essential Trem': 33, 'Benign Prostatic Hyperplasia': 34, 'Binge Eating Disorde': 35, 'Bipolar Disorde': 36, 'Birth Control': 37, 'Bladder Infection': 38, 'Borderline Personality Disorde': 39, 'Bowel Preparation': 40, 'Breast Cance': 41, 'Bronchitis': 42, 'Bursitis': 43, 'COPD': 44, 'COPD, Maintenance': 45, 'Chlamydia Infection': 46, 'Chronic Myelogenous Leukemia': 47, 'Chronic Pain': 48, 'Cluster Headaches': 49, 'Cold Sores': 50, 'Computed Tomography': 51, 'Conjunctivitis, Allergic': 52, 'Constipation': 53, 'Constipation, Acute': 54, 'Constipation, Chronic': 55, 'Constipation, Drug Induced': 56, 'Cough': 57, 'Cough and Nasal Congestion': 58, \"Crohn's Disease\": 59, \"Crohn's Disease, Acute\": 60, \"Crohn's Disease, Maintenance\": 61, 'Deep Vein Thrombosis': 62, 'Depression': 63, 'Diabetes, Type 1': 64, 'Diabetes, Type 2': 65, 'Diabetic Kidney Disease': 66, 'Diabetic Peripheral Neuropathy': 67, 'Diarrhea': 68, 'Diverticulitis': 69, 'Dry Eye Disease': 70, 'Duodenal Ulce': 71, 'Dysuria': 72, 'Emergency Contraception': 73, 'Endometriosis': 74, 'Epilepsy': 75, 'Erectile Dysfunction': 76, 'GERD': 77, 'Gastroenteritis': 78, 'Generalized Anxiety Disorde': 79, 'Giardiasis': 80, 'Glaucoma, Open Angle': 81, 'Gout, Acute': 82, 'HIV Infection': 83, \"Hashimoto's disease\": 84, 'Headache': 85, 'Heart Attack': 86, 'Hepatitis C': 87, 'Herpes Simplex, Suppression': 88, 'Herpes Zoster, Prophylaxis': 89, 'High Blood Pressure': 90, 'High Cholesterol': 91, 'Hot Flashes': 92, 'Human Papilloma Virus': 93, 'Human Papillomavirus Prophylaxis': 94, 'Hyperhidrosis': 95, 'Hypersomnia': 96, 'Hypogonadism, Male': 97, 'Hypothyroidism, After Thyroid Removal': 98, 'Indigestion': 99, 'Infection Prophylaxis': 100, 'Inflammatory Conditions': 101, 'Influenza': 102, 'Insomnia': 103, 'Interstitial Cystitis': 104, 'Irritable Bowel Syndrome': 105, 'Keratoconjunctivitis Sicca': 106, 'Keratosis': 107, 'Kidney Infections': 108, 'Labor Induction': 109, 'Leukemia': 110, 'Lipodystrophy': 111, 'Major Depressive Disorde': 112, \"Meniere's Disease\": 113, 'Menstrual Disorders': 114, 'Migraine': 115, 'Migraine Prevention': 116, 'Mitral Valve Prolapse': 117, 'Motion Sickness': 118, 'Multiple Sclerosis': 119, 'Muscle Pain': 120, 'Muscle Spasm': 121, 'Myasthenia Gravis': 122, 'Narcolepsy': 123, 'Nasal Congestion': 124, 'Nausea/Vomiting': 125, 'Nausea/Vomiting of Pregnancy': 126, 'Neutropenia Associated with Chemotherapy': 127, 'Nocturnal Leg Cramps': 128, 'Not Listed / Othe': 129, 'Obesity': 130, 'Obsessive Compulsive Disorde': 131, 'Onychomycosis, Fingernail': 132, 'Onychomycosis, Toenail': 133, 'Opiate Dependence': 134, 'Opiate Withdrawal': 135, 'Opioid Overdose': 136, 'Oral Thrush': 137, 'Osteoarthritis': 138, 'Osteoporosis': 139, 'Otitis Media': 140, 'Ovarian Cysts': 141, 'Overactive Bladde': 142, 'Pain': 143, 'Panic Disorde': 144, \"Parkinson's Disease\": 145, 'Perimenopausal Symptoms': 146, 'Period Pain': 147, 'Peripheral Neuropathy': 148, 'Pneumonia': 149, 'Post Traumatic Stress Disorde': 150, 'Postmenopausal Symptoms': 151, 'Postoperative Pain': 152, 'Postpartum Depression': 153, 'Premenstrual Dysphoric Disorde': 154, 'Prevention of Bladder infection': 155, 'Prostate Cance': 156, 'Prostatitis': 157, 'Psoriasis': 158, 'Psoriatic Arthritis': 159, 'Pulmonary Hypertension': 160, 'Rat-bite Feve': 161, \"Raynaud's Syndrome\": 162, 'Renal Cell Carcinoma': 163, 'Restless Legs Syndrome': 164, 'Rheumatoid Arthritis': 165, 'Rosacea': 166, 'Schizoaffective Disorde': 167, 'Schizophrenia': 168, 'Sciatica': 169, 'Seizure Prevention': 170, 'Seizures': 171, 'Sinusitis': 172, 'Skin or Soft Tissue Infection': 173, 'Smoking Cessation': 174, 'Social Anxiety Disorde': 175, 'Soft Tissue Sarcoma': 176, \"Still's Disease\": 177, 'Supraventricular Tachycardia': 178, 'Swine Flu': 179, 'Systemic Lupus Erythematosus': 180, 'Ulcerative Colitis': 181, 'Ulcerative Colitis, Active': 182, 'Ulcerative Proctitis': 183, 'Underactive Thyroid': 184, 'Urinary Incontinence': 185, 'Urinary Tract Infection': 186, 'Urticaria': 187, 'Vaginal Yeast Infection': 188, 'Vertig': 189, 'Vitamin D Deficiency': 190, 'Vitamin/Mineral Supplementation during Pregnancy/Lactation': 191, 'Warts': 192, 'Weight Loss': 193, 'atigue': 194, 'emale Infertility': 195, 'ibromyalgia': 196, 'mance Anxiety': 197, 'me': 198, 'min / sitagliptin)': 199, 'nan': 200}\n"
          ],
          "name": "stdout"
        }
      ]
    },
    {
      "cell_type": "code",
      "metadata": {
        "colab": {
          "base_uri": "https://localhost:8080/",
          "height": 204
        },
        "id": "ic3WlASz-GR6",
        "outputId": "5c76985d-bfa6-4199-d2a3-0dd431156c89"
      },
      "source": [
        "interim = pd.DataFrame(interim)\n",
        "interim.columns = ['condition']\n",
        "interim.head()"
      ],
      "execution_count": null,
      "outputs": [
        {
          "output_type": "execute_result",
          "data": {
            "text/html": [
              "<div>\n",
              "<style scoped>\n",
              "    .dataframe tbody tr th:only-of-type {\n",
              "        vertical-align: middle;\n",
              "    }\n",
              "\n",
              "    .dataframe tbody tr th {\n",
              "        vertical-align: top;\n",
              "    }\n",
              "\n",
              "    .dataframe thead th {\n",
              "        text-align: right;\n",
              "    }\n",
              "</style>\n",
              "<table border=\"1\" class=\"dataframe\">\n",
              "  <thead>\n",
              "    <tr style=\"text-align: right;\">\n",
              "      <th></th>\n",
              "      <th>condition</th>\n",
              "    </tr>\n",
              "  </thead>\n",
              "  <tbody>\n",
              "    <tr>\n",
              "      <th>0</th>\n",
              "      <td>63</td>\n",
              "    </tr>\n",
              "    <tr>\n",
              "      <th>1</th>\n",
              "      <td>61</td>\n",
              "    </tr>\n",
              "    <tr>\n",
              "      <th>2</th>\n",
              "      <td>186</td>\n",
              "    </tr>\n",
              "    <tr>\n",
              "      <th>3</th>\n",
              "      <td>193</td>\n",
              "    </tr>\n",
              "    <tr>\n",
              "      <th>4</th>\n",
              "      <td>37</td>\n",
              "    </tr>\n",
              "  </tbody>\n",
              "</table>\n",
              "</div>"
            ],
            "text/plain": [
              "   condition\n",
              "0         63\n",
              "1         61\n",
              "2        186\n",
              "3        193\n",
              "4         37"
            ]
          },
          "metadata": {
            "tags": []
          },
          "execution_count": 9
        }
      ]
    },
    {
      "cell_type": "code",
      "metadata": {
        "colab": {
          "base_uri": "https://localhost:8080/"
        },
        "id": "vHgVsOlt9oRS",
        "outputId": "52b20215-68ed-40c7-adb7-de67de08d853"
      },
      "source": [
        "#put interim into a data frame in order to map the 1 to a np.nan\n",
        "interim = pd.DataFrame(interim)\n",
        "\n",
        "#rename the dataframe\n",
        "interim.columns = ['condition']\n",
        "\n",
        "#use a lambda to convert all instinces of a 200 back to a np.nan\n",
        "interim['condition'] = interim['condition'].map(lambda x: nm.nan if x in [200] else x)\n",
        "interim['condition'] = interim['condition'].map(lambda x: nm.nan if x in [0] else x)\n",
        "interim['condition'] = interim['condition'].map(lambda x: nm.nan if x in [1] else x)\n",
        "interim['condition'] = interim['condition'].map(lambda x: nm.nan if x in [2] else x)\n",
        "interim['condition'] = interim['condition'].map(lambda x: nm.nan if x in [3] else x)\n",
        "interim['condition'] = interim['condition'].map(lambda x: nm.nan if x in [4] else x)\n",
        "interim['condition'] = interim['condition'].map(lambda x: nm.nan if x in [5] else x)\n",
        "interim['condition'] = interim['condition'].map(lambda x: nm.nan if x in [6] else x)\n",
        "\n",
        "#check that we were successful\n",
        "print(interim['condition'].unique())"
      ],
      "execution_count": 13,
      "outputs": [
        {
          "output_type": "stream",
          "text": [
            "[ 63.  61. 186. 193.  37. 107. 116. 135.  92. 188. 167. 103. 123. 174.\n",
            "   9.  36. 105. 106.  95. 144. 132. 166.  40.  56.  nan  65. 143. 111.\n",
            "  11.  73. 112.  20.  38.  34. 165.  74.   7. 164.  52. 162. 168.  64.\n",
            " 108.  79. 130. 125. 138. 118.  90. 159. 104. 151.  29. 196.  58.  67.\n",
            " 163.  53. 175. 126.  35.  87.  27.  50. 134.  86.  22.  57.  76.  26.\n",
            "  55. 171.  30. 129.  85.  18. 197. 114. 149.  54.  48.  33.  93.  96.\n",
            "  66. 113. 124. 131.  47. 195. 137.  10.  83. 191.  28. 190. 169. 140.\n",
            " 173.  59.  77. 109. 122. 158. 176. 139. 141.  80.  69. 102.   8.  21.\n",
            " 172.  78. 147. 101. 120.  12. 127.  88. 119. 189. 121.  42.  25.  14.\n",
            "  91. 187. 180.  68.  60. 115. 160.  41. 170.  39. 161.  45.  13.  72.\n",
            " 192. 110. 184. 177.  84. 117.  75.  97. 142. 148.  81. 133.  49. 181.\n",
            "  23.  62. 199. 150.  43. 157. 152.  94.  46. 182. 198.  51.  89. 178.\n",
            "  99.  82. 128. 156.  16. 145. 154. 194. 185.  44.  71.  15.  24.  32.\n",
            "  31.  17.  98.  19. 153. 136. 155. 100. 146. 179.  70. 183.]\n"
          ],
          "name": "stdout"
        }
      ]
    },
    {
      "cell_type": "code",
      "metadata": {
        "id": "boZKAS7l3KdG",
        "colab": {
          "base_uri": "https://localhost:8080/"
        },
        "outputId": "57389bf3-8642-4bdb-cd4c-8e3f9e08a1d2"
      },
      "source": [
        "sub_df['condition'].unique()"
      ],
      "execution_count": 15,
      "outputs": [
        {
          "output_type": "execute_result",
          "data": {
            "text/plain": [
              "array([ 63.,  61., 186., 193.,  37., 107., 116., 135.,  92., 188., 167.,\n",
              "       103., 123., 174.,   9.,  36., 105., 106.,  95., 144., 132., 166.,\n",
              "        40.,  56.,  nan,  65., 143., 111.,  11.,  73., 112.,  20.,  38.,\n",
              "        34., 165.,  74.,   7., 164.,  52., 162., 168.,  64., 108.,  79.,\n",
              "       130., 125., 138., 118.,  90., 159., 104., 151.,  29., 196.,  58.,\n",
              "        67., 163.,  53., 175., 126.,  35.,  87.,  27.,  50., 134.,  86.,\n",
              "        22.,  57.,  76.,  26.,  55., 171.,  30., 129.,  85.,  18., 197.,\n",
              "       114., 149.,  54.,  48.,  33.,  93.,  96.,  66., 113., 124., 131.,\n",
              "        47., 195., 137.,  10.,  83., 191.,  28., 190., 169., 140., 173.,\n",
              "        59.,  77., 109., 122., 158., 176., 139., 141.,  80.,  69., 102.,\n",
              "         8.,  21., 172.,  78., 147., 101., 120.,  12., 127.,  88., 119.,\n",
              "       189., 121.,  42.,  25.,  14.,  91., 187., 180.,  68.,  60., 115.,\n",
              "       160.,  41., 170.,  39., 161.,  45.,  13.,  72., 192., 110., 184.,\n",
              "       177.,  84., 117.,  75.,  97., 142., 148.,  81., 133.,  49., 181.,\n",
              "        23.,  62., 199., 150.,  43., 157., 152.,  94.,  46., 182., 198.,\n",
              "        51.,  89., 178.,  99.,  82., 128., 156.,  16., 145., 154., 194.,\n",
              "       185.,  44.,  71.,  15.,  24.,  32.,  31.,  17.,  98.,  19., 153.,\n",
              "       136., 155., 100., 146., 179.,  70., 183.])"
            ]
          },
          "metadata": {
            "tags": []
          },
          "execution_count": 15
        }
      ]
    },
    {
      "cell_type": "code",
      "metadata": {
        "id": "j86LKJ5-B3cE",
        "colab": {
          "base_uri": "https://localhost:8080/",
          "height": 204
        },
        "outputId": "58a24ae2-b4f9-4efa-a9f5-f3967b661ae6"
      },
      "source": [
        "#place interim ('condition') back in sub_df\n",
        "sub_df['condition'] = interim\n",
        "sub_df.head()"
      ],
      "execution_count": 14,
      "outputs": [
        {
          "output_type": "execute_result",
          "data": {
            "text/html": [
              "<div>\n",
              "<style scoped>\n",
              "    .dataframe tbody tr th:only-of-type {\n",
              "        vertical-align: middle;\n",
              "    }\n",
              "\n",
              "    .dataframe tbody tr th {\n",
              "        vertical-align: top;\n",
              "    }\n",
              "\n",
              "    .dataframe thead th {\n",
              "        text-align: right;\n",
              "    }\n",
              "</style>\n",
              "<table border=\"1\" class=\"dataframe\">\n",
              "  <thead>\n",
              "    <tr style=\"text-align: right;\">\n",
              "      <th></th>\n",
              "      <th>drugName</th>\n",
              "      <th>condition</th>\n",
              "      <th>review</th>\n",
              "      <th>date</th>\n",
              "    </tr>\n",
              "  </thead>\n",
              "  <tbody>\n",
              "    <tr>\n",
              "      <th>0</th>\n",
              "      <td>Mirtazapine</td>\n",
              "      <td>63.0</td>\n",
              "      <td>\"I&amp;#039;ve tried a few antidepressants over th...</td>\n",
              "      <td>2/28/2012</td>\n",
              "    </tr>\n",
              "    <tr>\n",
              "      <th>1</th>\n",
              "      <td>Mesalamine</td>\n",
              "      <td>61.0</td>\n",
              "      <td>\"My son has Crohn&amp;#039;s disease and has done ...</td>\n",
              "      <td>5/17/2009</td>\n",
              "    </tr>\n",
              "    <tr>\n",
              "      <th>2</th>\n",
              "      <td>Bactrim</td>\n",
              "      <td>186.0</td>\n",
              "      <td>\"Quick reduction of symptoms\"</td>\n",
              "      <td>9/29/2017</td>\n",
              "    </tr>\n",
              "    <tr>\n",
              "      <th>3</th>\n",
              "      <td>Contrave</td>\n",
              "      <td>193.0</td>\n",
              "      <td>\"Contrave combines drugs that were used for al...</td>\n",
              "      <td>3/5/2017</td>\n",
              "    </tr>\n",
              "    <tr>\n",
              "      <th>4</th>\n",
              "      <td>Cyclafem 1 / 35</td>\n",
              "      <td>37.0</td>\n",
              "      <td>\"I have been on this birth control for one cyc...</td>\n",
              "      <td>10/22/2015</td>\n",
              "    </tr>\n",
              "  </tbody>\n",
              "</table>\n",
              "</div>"
            ],
            "text/plain": [
              "          drugName  ...        date\n",
              "0      Mirtazapine  ...   2/28/2012\n",
              "1       Mesalamine  ...   5/17/2009\n",
              "2          Bactrim  ...   9/29/2017\n",
              "3         Contrave  ...    3/5/2017\n",
              "4  Cyclafem 1 / 35  ...  10/22/2015\n",
              "\n",
              "[5 rows x 4 columns]"
            ]
          },
          "metadata": {
            "tags": []
          },
          "execution_count": 14
        }
      ]
    }
  ]
}