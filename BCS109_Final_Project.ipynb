{
  "nbformat": 4,
  "nbformat_minor": 0,
  "metadata": {
    "colab": {
      "name": "BCS109 Project",
      "provenance": [],
      "include_colab_link": true
    },
    "kernelspec": {
      "name": "python3",
      "display_name": "Python 3"
    }
  },
  "cells": [
    {
      "cell_type": "markdown",
      "metadata": {
        "id": "view-in-github",
        "colab_type": "text"
      },
      "source": [
        "<a href=\"https://colab.research.google.com/github/Michael-C-1/Final-Project/blob/main/BCS109_Final_Project.ipynb\" target=\"_parent\"><img src=\"https://colab.research.google.com/assets/colab-badge.svg\" alt=\"Open In Colab\"/></a>"
      ]
    },
    {
      "cell_type": "markdown",
      "metadata": {
        "id": "I532MhGGRM28"
      },
      "source": [
        "# Project To-do List\r\n",
        "1. ~~Find a dataset that is satisfactory~~\r\n",
        "2. ~~Upload your data set to github and then to python (Colab or Jupyter)~~\r\n",
        "3. Explain your data using textboxes (make sure to explain everything that you are doing - do some research to become a \"expert\", so that you know what is meaningful with this data).\r\n",
        "4. Analyze your data for missing data or errors, etc.\r\n",
        "5. Impute the data\r\n",
        "6. Get the statistics and a basic analysis of what is going on\r\n",
        "7. Do some charts, correlations, etc.\r\n",
        "8. Answer 3 questions with your data using Python to provide a solution that you explain with text boxes as well as commented code\r\n",
        "9. Do regression to test whether one of your variables can be explained via this model. \r\n",
        "10. Evaluate your model"
      ]
    },
    {
      "cell_type": "code",
      "metadata": {
        "id": "uqia7Cw6QnZW"
      },
      "source": [
        "#project outline\r\n",
        "#https://github.com/MatthewFried/Udemy/blob/master/Foundation/_12_Step_by_Step_Data_Anaylsis.ipynb\r\n",
        "#dataset source\r\n",
        "#https://archive.ics.uci.edu/ml/datasets/Drug+Review+Dataset+%28Drugs.com%29\r\n",
        "#raw file\r\n",
        "#https://raw.githubusercontent.com/brandjula/BCS109-FALL-2020/master/drugs_data_set.csv"
      ],
      "execution_count": null,
      "outputs": []
    },
    {
      "cell_type": "code",
      "metadata": {
        "id": "r9ItRjusjIQc"
      },
      "source": [
        "#load numpy and panda libraries\r\n",
        "import numpy as nm\r\n",
        "import pandas as pd\r\n",
        "import matplotlib.pyplot as plt\r\n",
        "import missingno as msno\r\n",
        "import seaborn as sns\r\n",
        "\r\n",
        "df=pd.read_csv('https://raw.githubusercontent.com/brandjula/BCS109-FALL-2020/master/drugs_data_set.csv')\r\n",
        "df.head()"
      ],
      "execution_count": null,
      "outputs": []
    }
  ]
}